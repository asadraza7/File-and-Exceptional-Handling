{
  "nbformat": 4,
  "nbformat_minor": 0,
  "metadata": {
    "colab": {
      "provenance": [],
      "authorship_tag": "ABX9TyMfVCxTt7lqTAz8y6+qbinC",
      "include_colab_link": true
    },
    "kernelspec": {
      "name": "python3",
      "display_name": "Python 3"
    },
    "language_info": {
      "name": "python"
    }
  },
  "cells": [
    {
      "cell_type": "markdown",
      "metadata": {
        "id": "view-in-github",
        "colab_type": "text"
      },
      "source": [
        "<a href=\"https://colab.research.google.com/github/asadraza7/File-and-Exceptional-Handling/blob/main/Copy_of_Files_and_Exceptional_handling_Assignment.ipynb\" target=\"_parent\"><img src=\"https://colab.research.google.com/assets/colab-badge.svg\" alt=\"Open In Colab\"/></a>"
      ]
    },
    {
      "cell_type": "markdown",
      "source": [
        "(Q)1)Discuss the scenarios where multithreading is preferable to multiprocessing and scenarios where\n",
        "multiprocessing is a better choice.\n",
        "\n",
        "Ans:-\n",
        "Multithreading is preferable for I/O-bound tasks and applications requiring shared data access.\n",
        "\n",
        "while multiprocessing shines in CPU-intensive scenarios and when independent processes are needed."
      ],
      "metadata": {
        "id": "Cs7kD9yP7uVP"
      }
    },
    {
      "cell_type": "markdown",
      "source": [
        "Q(2)Describe what a process pool is and how it helps in managing multiple processes efficiently.\n",
        "\n",
        "Ans:-\n",
        "process pool is a pool which help in maping multiple task at a time.\n",
        "\n",
        "it helps in managing multiple\n",
        "processes efficiently by allowing you to do multiple jobs per process, which may make it easier to parallelize your program."
      ],
      "metadata": {
        "id": "6GlA8ZSm9CuI"
      }
    },
    {
      "cell_type": "markdown",
      "source": [
        "Q(3)Explain what multiprocessing is and why it is used in Python programs.\n",
        "\n",
        "Ans:-\n",
        "When more than one processer is used  for process at a time then it is known as multiprocessing.\n",
        "\n",
        "It is used in Python programs because to execute more than one program at a time,it also helps in running the code/program parallely.It is also used because it helps to take less time as compared to multithreading which is concurrent in nature."
      ],
      "metadata": {
        "id": "3FubHYWe9DTo"
      }
    },
    {
      "cell_type": "markdown",
      "source": [
        "Q(4)Write a Python program using multithreading where one thread adds numbers to a list, and another\n",
        "thread removes numbers from the list. Implement a mechanism to avoid race conditions using\n",
        "threading.Lock"
      ],
      "metadata": {
        "id": "a5WhOhX09DVb"
      }
    },
    {
      "cell_type": "code",
      "source": [
        "import threading\n",
        "import time\n",
        "import random\n",
        "\n",
        "# Shared resource\n",
        "numbers = []\n",
        "lock = threading.Lock()\n",
        "\n",
        "# Function to add numbers to the list\n",
        "def add_numbers():\n",
        "    for i in range(10):\n",
        "        time.sleep(random.uniform(0.1, 0.5))  # Simulate work\n",
        "        with lock:  # Acquire lock before modifying the list\n",
        "            num = random.randint(1, 100)\n",
        "            numbers.append(num)\n",
        "            print(f\"Added: {num} | List: {numbers}\")\n",
        "\n",
        "# Function to remove numbers from the list\n",
        "def remove_numbers():\n",
        "    for i in range(10):\n",
        "        time.sleep(random.uniform(0.2, 0.6))  # Simulate work\n",
        "        with lock:  # Acquire lock before modifying the list\n",
        "            if numbers:\n",
        "                num = numbers.pop(0)\n",
        "                print(f\"Removed: {num} | List: {numbers}\")\n",
        "            else:\n",
        "                print(\"List is empty, waiting to remove...\")\n",
        "\n",
        "# Creating threads\n",
        "adder_thread = threading.Thread(target=add_numbers)\n",
        "remover_thread = threading.Thread(target=remove_numbers)\n",
        "\n",
        "# Starting threads\n",
        "adder_thread.start()\n",
        "remover_thread.start()\n",
        "\n",
        "# Waiting for threads to complete\n",
        "adder_thread.join()\n",
        "remover_thread.join()\n",
        "\n",
        "print(\"Final List:\", numbers)"
      ],
      "metadata": {
        "colab": {
          "base_uri": "https://localhost:8080/"
        },
        "id": "MKX5OswlEZM_",
        "outputId": "77a30793-43ee-440d-c9e3-d8ea1431fbb8"
      },
      "execution_count": null,
      "outputs": [
        {
          "output_type": "stream",
          "name": "stdout",
          "text": [
            "List is empty, waiting to remove...\n",
            "Added: 58 | List: [58]\n",
            "Removed: 58 | List: []\n",
            "Added: 25 | List: [25]\n",
            "Removed: 25 | List: []\n",
            "Added: 44 | List: [44]\n",
            "Removed: 44 | List: []\n",
            "Added: 85 | List: [85]\n",
            "Removed: 85 | List: []\n",
            "List is empty, waiting to remove...\n",
            "Added: 91 | List: [91]\n",
            "Removed: 91 | List: []\n",
            "Added: 3 | List: [3]\n",
            "Added: 93 | List: [3, 93]\n",
            "Removed: 3 | List: [93]\n",
            "Added: 52 | List: [93, 52]\n",
            "Removed: 93 | List: [52]\n",
            "Added: 38 | List: [52, 38]\n",
            "Removed: 52 | List: [38]\n",
            "Added: 30 | List: [38, 30]\n",
            "Final List: [38, 30]\n"
          ]
        }
      ]
    },
    {
      "cell_type": "markdown",
      "source": [
        "Q(5)Describe the methods and tools available in Python for safely sharing data between threads and\n",
        "processes.\n",
        "\n",
        "Ans:-\n",
        "Perhaps the safest way to send data from one thread to another is to use a Queue from the queue library. To do this, create a Queue instance that is shared by the threads. Threads then use put() or get() operations to add or remove items from the queue as shown in the code given below"
      ],
      "metadata": {
        "id": "_DeUTcqbKsXu"
      }
    },
    {
      "cell_type": "markdown",
      "source": [
        "Q(6)Discuss why it’s crucial to handle exceptions in concurrent programs and the techniques available for\n",
        "doing so.\n",
        "\n",
        "Ans:-\n",
        "It’s crucial to handle exceptions in concurrent programs because to run the program without being break.It helps to stop the error.This feature makes it easier to group and handle several exceptions together. This is quite useful in cases where you are using concurrent."
      ],
      "metadata": {
        "id": "s416jXcKL3nQ"
      }
    },
    {
      "cell_type": "markdown",
      "source": [
        "Q(7)Create a program that uses a thread pool to calculate the factorial of numbers from 1 to 10 concurrently.\n",
        "Use concurrent.futures.ThreadPoolExecutor to manage the threads."
      ],
      "metadata": {
        "id": "_jre1riC4e1f"
      }
    },
    {
      "cell_type": "code",
      "source": [
        "import concurrent.futures\n",
        "import math\n",
        "\n",
        "def factorial(n):\n",
        "    print(f\"Factorial of {n} is {(math.factorial(n))}\")\n",
        "\n",
        "numbers=list(range(1,11))\n",
        "with concurrent.futures.ThreadPoolExecutor() as executor:\n",
        "    result=executor.map(factorial,numbers)"
      ],
      "metadata": {
        "colab": {
          "base_uri": "https://localhost:8080/"
        },
        "id": "5o6NYCLz5p0h",
        "outputId": "31fc3b9a-14c1-4532-f32f-98077139527c"
      },
      "execution_count": null,
      "outputs": [
        {
          "output_type": "stream",
          "name": "stdout",
          "text": [
            "Factorial of 1 is 1\n",
            "Factorial of 2 is 2\n",
            "Factorial of 3 is 6\n",
            "Factorial of 4 is 24\n",
            "Factorial of 5 is 120\n",
            "Factorial of 6 is 720\n",
            "Factorial of 7 is 5040\n",
            "Factorial of 8 is 40320\n",
            "Factorial of 9 is 362880\n",
            "Factorial of 10 is 3628800\n"
          ]
        }
      ]
    },
    {
      "cell_type": "markdown",
      "source": [
        "Q(8)Create a Python program that uses multiprocessing.Pool to compute the square of numbers from 1 to 10 in\n",
        "parallel. Measure the time taken to perform this computation using a pool of different sizes (e.g., 2, 4, 8\n",
        "processes)."
      ],
      "metadata": {
        "id": "CZ5Pg40y9giv"
      }
    },
    {
      "cell_type": "code",
      "source": [
        "import multiprocessing\n",
        "import time\n",
        "\n",
        "\n",
        "\n",
        "def square(n):\n",
        "    return n*n\n",
        "\n",
        "def measure_time(pool_size):\n",
        "    numbers=list(range(1,11))\n",
        "    start=time.perf_counter()\n",
        "\n",
        "    with multiprocessing.Pool(pool_size) as pool:\n",
        "        result=pool.map(square,numbers)\n",
        "    end=time.perf_counter()\n",
        "\n",
        "    print(f\"Pool size : {pool_size}, Results : {result}, Time Taken : {round(end-start,3)} seconds\")\n",
        "\n",
        "for size in [2, 4, 8]:\n",
        "    measure_time(size)"
      ],
      "metadata": {
        "colab": {
          "base_uri": "https://localhost:8080/"
        },
        "id": "kAoZG0MdC6iY",
        "outputId": "bddb3744-616f-458f-dc85-30c201985c6d"
      },
      "execution_count": null,
      "outputs": [
        {
          "output_type": "stream",
          "name": "stdout",
          "text": [
            "Pool size : 2, Results : [1, 4, 9, 16, 25, 36, 49, 64, 81, 100], Time Taken : 0.028 seconds\n",
            "Pool size : 4, Results : [1, 4, 9, 16, 25, 36, 49, 64, 81, 100], Time Taken : 0.043 seconds\n",
            "Pool size : 8, Results : [1, 4, 9, 16, 25, 36, 49, 64, 81, 100], Time Taken : 0.083 seconds\n"
          ]
        }
      ]
    }
  ]
}